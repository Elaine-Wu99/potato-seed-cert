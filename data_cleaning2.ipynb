{
 "cells": [
  {
   "cell_type": "code",
   "execution_count": null,
   "metadata": {
    "ExecuteTime": {
     "end_time": "2020-09-24T20:34:02.926139Z",
     "start_time": "2020-09-24T20:34:01.250Z"
    }
   },
   "outputs": [],
   "source": [
    "import pandas as pd\n",
    "import matplotlib.pyplot as plt\n",
    "import seaborn as sns\n",
    "import numpy\n",
    "import xlrd\n",
    "import plotly.graph_objs as go\n",
    "import functools\n",
    "pd.set_option('display.max_rows', 150)"
   ]
  },
  {
   "cell_type": "code",
   "execution_count": null,
   "metadata": {
    "ExecuteTime": {
     "end_time": "2020-09-24T20:34:02.928134Z",
     "start_time": "2020-09-24T20:34:01.261Z"
    }
   },
   "outputs": [],
   "source": [
    "df = pd.read_excel(\"2003-2016 Seed Potato Cert data v20191204_NO FL lines_Rioux 5AUG2020.xlsx\", sheet_name=\"2003-2016 Seed Potato Cert\")"
   ]
  },
  {
   "cell_type": "code",
   "execution_count": null,
   "metadata": {
    "ExecuteTime": {
     "end_time": "2020-09-24T20:34:02.930128Z",
     "start_time": "2020-09-24T20:34:01.269Z"
    }
   },
   "outputs": [],
   "source": [
    "df.shape"
   ]
  },
  {
   "cell_type": "code",
   "execution_count": null,
   "metadata": {
    "ExecuteTime": {
     "end_time": "2020-09-24T20:34:02.931126Z",
     "start_time": "2020-09-24T20:34:01.274Z"
    }
   },
   "outputs": [],
   "source": [
    "df.head()"
   ]
  },
  {
   "cell_type": "markdown",
   "metadata": {},
   "source": [
    "### Data Validation"
   ]
  },
  {
   "cell_type": "markdown",
   "metadata": {},
   "source": [
    "#### Inspection day\n",
    "\n",
    "Hypothesis: **DASP1** should be smaller than **DASP2**"
   ]
  },
  {
   "cell_type": "code",
   "execution_count": null,
   "metadata": {},
   "outputs": [],
   "source": [
    "df.loc[df[\"DAPS1\"] > df[\"DAPS2\"], df.columns.str.contains(\"DA\")]"
   ]
  },
  {
   "cell_type": "markdown",
   "metadata": {},
   "source": [
    "#### Source Year\n",
    "\n",
    "Hypothesis: **CY** should be larger than or equal to **S_YR** <br>\n",
    "\n",
    "-CY: year entered certification program <br>\n",
    "-S_YR: source year "
   ]
  },
  {
   "cell_type": "code",
   "execution_count": null,
   "metadata": {},
   "outputs": [],
   "source": [
    "df[(df[\"CY\"] <df[\"S_YR\"]) | (df[\"CY\"] <df[\"winter_S_YR\"])]"
   ]
  },
  {
   "cell_type": "markdown",
   "metadata": {},
   "source": [
    "#### Check one-to-one relationship between source grower and source grower code\n",
    "\n",
    "Hypothesis: One source grower should only have one source grower code"
   ]
  },
  {
   "cell_type": "code",
   "execution_count": null,
   "metadata": {},
   "outputs": [],
   "source": [
    "# One source code correspond 5 different source grower\n",
    "\n",
    "grw_count = df[[\"S_GRW\",\"S_GCODE\"]].groupby(\"S_GCODE\").apply(lambda x: x[\"S_GRW\"].nunique())\n",
    "grw_count[grw_count > 2]"
   ]
  },
  {
   "cell_type": "code",
   "execution_count": null,
   "metadata": {},
   "outputs": [],
   "source": [
    "winter_grw_count = df[[\"winter_S_GRW\",\"winter_S_GCODE\"]].groupby(\"winter_S_GCODE\").apply(lambda x: x[\"winter_S_GRW\"].nunique())\n",
    "winter_grw_count[winter_grw_count > 2]"
   ]
  },
  {
   "cell_type": "code",
   "execution_count": null,
   "metadata": {},
   "outputs": [],
   "source": [
    "grw_count = df[[\"S_GRW\",\"S_GCODE\"]].groupby(\"S_GCODE\").apply(lambda x: x[\"S_GRW\"].nunique())\n",
    "grw_count[grw_count > 2]"
   ]
  },
  {
   "cell_type": "code",
   "execution_count": null,
   "metadata": {},
   "outputs": [],
   "source": [
    "# It seems like these 5 source grower are actually one source grower in different format\n",
    "df[df[\"S_GCODE\"] == 243][\"S_GRW\"].value_counts()"
   ]
  },
  {
   "cell_type": "code",
   "execution_count": null,
   "metadata": {},
   "outputs": [],
   "source": [
    "df[df[\"winter_S_GCODE\"] == 243][\"winter_S_GRW\"].value_counts()"
   ]
  },
  {
   "cell_type": "code",
   "execution_count": null,
   "metadata": {},
   "outputs": [],
   "source": [
    "# Standardize name with the most common one: 'Felix Zeloski Farms-Eagle River'\n",
    "prob_name = df[df[\"S_GCODE\"] == 243][\"S_GRW\"].unique().tolist()\n",
    "prob_name\n",
    "df[\"S_GRW\"] = df[\"S_GRW\"].apply(lambda x: 'Felix Zeloski Farms-Eagle River' if x in prob_name else x)\n",
    "df[\"winter_S_GRW\"] = df[\"winter_S_GRW\"].apply(lambda x: 'Felix Zeloski Farms-Eagle River' if x in prob_name else x)\n",
    "\n",
    "# Double check after fixing the problem\n",
    "grw_count = df[[\"S_GRW\",\"S_GCODE\"]].groupby(\"S_GCODE\").apply(lambda x: x[\"S_GRW\"].nunique())\n",
    "grw_count[grw_count > 2]"
   ]
  },
  {
   "cell_type": "code",
   "execution_count": null,
   "metadata": {},
   "outputs": [],
   "source": [
    "winter_grw_count = df[[\"winter_S_GRW\",\"winter_S_GCODE\"]].groupby(\"winter_S_GCODE\").apply(lambda x: x[\"winter_S_GRW\"].nunique())\n",
    "winter_grw_count[winter_grw_count > 2]"
   ]
  },
  {
   "cell_type": "code",
   "execution_count": null,
   "metadata": {},
   "outputs": [],
   "source": [
    "df[\"S_GRW\"].value_counts()"
   ]
  },
  {
   "cell_type": "code",
   "execution_count": null,
   "metadata": {},
   "outputs": [],
   "source": [
    "# Three source growers have 2 source grower code\n",
    "\n",
    "gcode_count = df[[\"S_GRW\",\"S_GCODE\"]].groupby(\"S_GRW\").apply(lambda x: x[\"S_GCODE\"].nunique())\n",
    "gcode_count[gcode_count > 1]\n",
    "\n"
   ]
  },
  {
   "cell_type": "code",
   "execution_count": null,
   "metadata": {},
   "outputs": [],
   "source": [
    "# Look into these three problematic grower\n",
    "prob_grower = gcode_count[gcode_count > 1].index.tolist()\n",
    "prob_grower\n",
    "\n",
    "for grower in prob_grower:\n",
    "    print(str(grower) +\":\" + str(df[df[\"S_GRW\"] == grower][\"S_GCODE\"].unique()))\n",
    "    print()\n",
    "# prob_grw = gcode_count[gcode_count > 1].index"
   ]
  },
  {
   "cell_type": "markdown",
   "metadata": {},
   "source": [
    "#### Possible redundant info for summer and winter\n",
    "\n",
    "Summer info and winter info should match for source info"
   ]
  },
  {
   "cell_type": "code",
   "execution_count": null,
   "metadata": {},
   "outputs": [],
   "source": [
    "summer_columns = [\"CERT_N\",\n",
    "\"SNAME\",\n",
    "\"GCODE\",\n",
    "\"VARIETY\",\n",
    "\"S_GRW\",\n",
    "\"S_G\",\n",
    "\"S_YR\",\n",
    "\"S_GCODE\",\n",
    "\"S_STATE\"]\n",
    "\n",
    "winter_columns = [\"winter_{}\".format(x) for x in summer_columns]\n",
    "winter_columns\n",
    "\n",
    "combined_columns =[]\n",
    "for i in range(len(summer_columns)):\n",
    "    combined_columns.append(summer_columns[i])\n",
    "    combined_columns.append(winter_columns[i])\n",
    "    \n",
    "combined_columns"
   ]
  },
  {
   "cell_type": "code",
   "execution_count": null,
   "metadata": {},
   "outputs": [],
   "source": [
    "df[combined_columns]"
   ]
  },
  {
   "cell_type": "markdown",
   "metadata": {},
   "source": [
    "##### Check the reason for mismatch\n",
    "\n",
    "Some of mismatch result from missing value\n",
    "\n",
    "Solution: fill the missing value by its equivalent"
   ]
  },
  {
   "cell_type": "code",
   "execution_count": null,
   "metadata": {},
   "outputs": [],
   "source": [
    "conditions = [(df.loc[:, combined_columns[i]] != df.loc[:,combined_columns[i+1]]) for i in range(0,len(combined_columns),2)]\n",
    "conditions\n",
    "\n",
    "df.loc[conditions[0] | conditions[1] | conditions[2] | conditions[3] | conditions[4] | conditions[5] | conditions[6] | conditions[7] | conditions[8],combined_columns\n",
    "      ] "
   ]
  },
  {
   "cell_type": "markdown",
   "metadata": {},
   "source": [
    "Fill na value in either summer or winter columns by the other one"
   ]
  },
  {
   "cell_type": "code",
   "execution_count": null,
   "metadata": {},
   "outputs": [],
   "source": [
    "for i in range(0, len(combined_columns),2):\n",
    "    df[combined_columns[i]] = df[combined_columns[i]].fillna(df[combined_columns[i+1]])\n",
    "    df[combined_columns[i]] = df[combined_columns[i]].mask(df[combined_columns[i]]==0).fillna(df[combined_columns[i+1]])\n",
    "\n",
    "for i in range(1, len(combined_columns),2):\n",
    "    df[combined_columns[i]] = df[combined_columns[i]].fillna(df[combined_columns[i-1]])\n",
    "    df[combined_columns[i]] =df[combined_columns[i]].mask(df[combined_columns[i]]==0).fillna(df[combined_columns[i-1]])\n"
   ]
  },
  {
   "cell_type": "markdown",
   "metadata": {},
   "source": [
    "##### Mismatch Analysis\n",
    "\n",
    "- Reason1: Typo \n",
    "- Reason2: full name and shorthand notation in variety\n",
    "- Reason3: Extra comma (source grower)\n",
    " "
   ]
  },
  {
   "cell_type": "code",
   "execution_count": null,
   "metadata": {},
   "outputs": [],
   "source": [
    "new_conditions = [(df.loc[:, combined_columns[i]] != df.loc[:,combined_columns[i+1]]) for i in range(0,len(combined_columns),2)]\n",
    "new_conditions\n",
    "\n",
    "df.loc[new_conditions[0] | new_conditions[1] | new_conditions[2] | new_conditions[3] | new_conditions[4] | new_conditions[5] | new_conditions[6] | new_conditions[7] | new_conditions[8],combined_columns\n",
    "      ] "
   ]
  },
  {
   "cell_type": "code",
   "execution_count": null,
   "metadata": {},
   "outputs": [],
   "source": [
    "# Number of mismatch after filling missing value\n",
    "\n",
    "for i in range(len(new_conditions)):\n",
    "    print(combined_columns[i*2] + \":\" + str(len(df.loc[new_conditions[i], combined_columns])))"
   ]
  },
  {
   "cell_type": "code",
   "execution_count": null,
   "metadata": {},
   "outputs": [],
   "source": [
    "df.loc[df[\"S_G\"] != df[\"winter_S_G\"], combined_columns]"
   ]
  },
  {
   "cell_type": "code",
   "execution_count": null,
   "metadata": {},
   "outputs": [],
   "source": [
    "df[[\"S_G\"]].value_counts()"
   ]
  },
  {
   "cell_type": "markdown",
   "metadata": {},
   "source": [
    "Fix the problem of S_G:\n",
    "\n",
    "- Upper case and lower case (CETS and Cets) Cets => CETS\n",
    "- Plural and singular forms (Nilson Farms & Nilson Farm)\n",
    "- Spelling error (Schroeder Farm, Schroder Farms) Schroder Farms => Schroeder Farm\n",
    "- Order (J Gallenberg, Gallenberg J)"
   ]
  },
  {
   "cell_type": "code",
   "execution_count": null,
   "metadata": {},
   "outputs": [],
   "source": [
    "df[\"winter_S_G\"] = df[\"winter_S_G\"].apply(lambda x: \"CETS\" if x == \"Cets\" else x)\n",
    "\n",
    "df[\"winter_S_G\"] = df[\"winter_S_G\"].apply(lambda x: \"Schroeder Farm\" if x == \"Schroder Farms\" else x)\n",
    "\n",
    "df[\"winter_S_G\"] = df[\"winter_S_G\"].apply(lambda x: \"J Gallenberg\" if x == \"Gallenberg J\" else x)\n"
   ]
  },
  {
   "cell_type": "code",
   "execution_count": null,
   "metadata": {},
   "outputs": [],
   "source": [
    "df.loc[df[\"S_G\"] != df[\"winter_S_G\"], combined_columns]"
   ]
  },
  {
   "cell_type": "markdown",
   "metadata": {},
   "source": [
    "Fix the problem of S_STATE: \n",
    "\n",
    "- change PEI to PE"
   ]
  },
  {
   "cell_type": "code",
   "execution_count": null,
   "metadata": {
    "scrolled": true
   },
   "outputs": [],
   "source": [
    "df[\"S_STATE\"] = df[\"S_STATE\"].apply(lambda x:\"PE\" if x == \"PEI\" else x)\n",
    "df[\"S_STATE\"]"
   ]
  },
  {
   "cell_type": "markdown",
   "metadata": {},
   "source": [
    "Fix the problem of S_YR: \n",
    "\n",
    "- change 1072 (Typo) to 2006"
   ]
  },
  {
   "cell_type": "code",
   "execution_count": null,
   "metadata": {},
   "outputs": [],
   "source": [
    "df[\"S_YR\"] = df[\"S_YR\"].apply(lambda x:2006 if x == 1072 else x)\n",
    "df[\"S_YR\"]"
   ]
  },
  {
   "cell_type": "code",
   "execution_count": null,
   "metadata": {},
   "outputs": [],
   "source": [
    "df.loc[df[\"S_YR\"] != df[\"winter_S_YR\"], combined_columns]"
   ]
  },
  {
   "cell_type": "code",
   "execution_count": null,
   "metadata": {},
   "outputs": [],
   "source": [
    "df.loc[df[\"winter_S_STATE\"] == \"PE\", combined_columns]"
   ]
  },
  {
   "cell_type": "code",
   "execution_count": null,
   "metadata": {},
   "outputs": [],
   "source": []
  },
  {
   "cell_type": "code",
   "execution_count": null,
   "metadata": {},
   "outputs": [],
   "source": []
  },
  {
   "cell_type": "code",
   "execution_count": null,
   "metadata": {},
   "outputs": [],
   "source": [
    "def conjunction(*conditions):\n",
    "    return functools.reduce(np.logical_or, conditions)\n",
    "\n",
    "condition\n",
    "np.lo\n",
    "\n",
    "source_info[conjunction(condition[0], condition[1])]"
   ]
  },
  {
   "cell_type": "code",
   "execution_count": null,
   "metadata": {},
   "outputs": [],
   "source": []
  },
  {
   "cell_type": "code",
   "execution_count": null,
   "metadata": {
    "scrolled": false
   },
   "outputs": [],
   "source": [
    "df.loc[:, (df.columns.str.contains(\"SR2\")) | (df.columns.str.contains(\"SR1\")) ]\n"
   ]
  },
  {
   "cell_type": "code",
   "execution_count": null,
   "metadata": {},
   "outputs": [],
   "source": [
    "frequent_state = df[\"S_STATE\"].value_counts()[:8].index.to_list()\n",
    "frequent_state"
   ]
  },
  {
   "cell_type": "code",
   "execution_count": null,
   "metadata": {},
   "outputs": [],
   "source": [
    "df.columns[df.columns.str.contains(\"SR1\")]"
   ]
  },
  {
   "cell_type": "code",
   "execution_count": null,
   "metadata": {},
   "outputs": [],
   "source": [
    "target_virus = ['SR1_ST','SR1_MIX',\"SR1_LR\"]"
   ]
  },
  {
   "cell_type": "code",
   "execution_count": null,
   "metadata": {},
   "outputs": [],
   "source": [
    "fig, ax = plt.subplots(figsize = (10,6))\n",
    "df[df[\"S_STATE\"].isin(frequent_state)].groupby(\"S_STATE\").mean()[target_virus].plot(kind = \"barh\", ax = ax)\n",
    "ax.tick_params(axis='x', rotation=0)\n",
    "ax.set_title(\"Virus across state\")\n",
    "ax.spines['top'].set_visible(False)\n",
    "ax.spines['right'].set_visible(False)\n",
    "plt.tight_layout()\n",
    "\n",
    "plt.savefig(\"Virus_across_state\")"
   ]
  },
  {
   "cell_type": "code",
   "execution_count": null,
   "metadata": {},
   "outputs": [],
   "source": [
    "frequent_variety = df[\"VARIETY\"].value_counts()[:15].index.tolist()\n",
    "frequent_variety"
   ]
  },
  {
   "cell_type": "code",
   "execution_count": null,
   "metadata": {},
   "outputs": [],
   "source": [
    "fig, ax = plt.subplots(figsize = (10,6))\n",
    "df[df[\"VARIETY\"].isin(frequent_variety)].groupby(\"VARIETY\").mean()[target_virus].plot(kind = \"barh\", ax = ax)\n",
    "ax.tick_params(axis='x', rotation=0)\n",
    "ax.tick_params(axis=\"y\", rotation = 0)\n",
    "ax.set_title(\"Virus across potato variety\")\n",
    "ax.spines['top'].set_visible(False)\n",
    "ax.spines['right'].set_visible(False)\n",
    "plt.tight_layout()\n",
    "plt.savefig(\"Virus_across_potato_variety\")"
   ]
  }
 ],
 "metadata": {
  "kernelspec": {
   "display_name": "Python 3",
   "language": "python",
   "name": "python3"
  },
  "language_info": {
   "codemirror_mode": {
    "name": "ipython",
    "version": 3
   },
   "file_extension": ".py",
   "mimetype": "text/x-python",
   "name": "python",
   "nbconvert_exporter": "python",
   "pygments_lexer": "ipython3",
   "version": "3.8.5"
  },
  "toc": {
   "base_numbering": 1,
   "nav_menu": {},
   "number_sections": true,
   "sideBar": true,
   "skip_h1_title": false,
   "title_cell": "Table of Contents",
   "title_sidebar": "Contents",
   "toc_cell": false,
   "toc_position": {},
   "toc_section_display": true,
   "toc_window_display": false
  },
  "varInspector": {
   "cols": {
    "lenName": 16,
    "lenType": 16,
    "lenVar": 40
   },
   "kernels_config": {
    "python": {
     "delete_cmd_postfix": "",
     "delete_cmd_prefix": "del ",
     "library": "var_list.py",
     "varRefreshCmd": "print(var_dic_list())"
    },
    "r": {
     "delete_cmd_postfix": ") ",
     "delete_cmd_prefix": "rm(",
     "library": "var_list.r",
     "varRefreshCmd": "cat(var_dic_list()) "
    }
   },
   "types_to_exclude": [
    "module",
    "function",
    "builtin_function_or_method",
    "instance",
    "_Feature"
   ],
   "window_display": false
  }
 },
 "nbformat": 4,
 "nbformat_minor": 4
}
